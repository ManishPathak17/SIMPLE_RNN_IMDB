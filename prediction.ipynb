{
 "cells": [
  {
   "cell_type": "code",
   "execution_count": 11,
   "metadata": {},
   "outputs": [],
   "source": [
    "import numpy as np \n",
    "import tensorflow as tf \n",
    "from tensorflow.keras.preprocessing import sequence \n",
    "from tensorflow.keras.datasets import imdb \n",
    "from tensorflow.keras.models import load_model \n"
   ]
  },
  {
   "cell_type": "code",
   "execution_count": 12,
   "metadata": {},
   "outputs": [],
   "source": [
    "##load the IMDB dataset word index\n",
    "word_index=imdb.get_word_index()\n",
    "##word index\n",
    "reverse_word_index={value:key for key,value in word_index.items()}\n"
   ]
  },
  {
   "cell_type": "code",
   "execution_count": 13,
   "metadata": {},
   "outputs": [
    {
     "name": "stderr",
     "output_type": "stream",
     "text": [
      "WARNING:absl:Compiled the loaded model, but the compiled metrics have yet to be built. `model.compile_metrics` will be empty until you train or evaluate the model.\n"
     ]
    },
    {
     "data": {
      "text/html": [
       "<pre style=\"white-space:pre;overflow-x:auto;line-height:normal;font-family:Menlo,'DejaVu Sans Mono',consolas,'Courier New',monospace\"><span style=\"font-weight: bold\">Model: \"sequential\"</span>\n",
       "</pre>\n"
      ],
      "text/plain": [
       "\u001b[1mModel: \"sequential\"\u001b[0m\n"
      ]
     },
     "metadata": {},
     "output_type": "display_data"
    },
    {
     "data": {
      "text/html": [
       "<pre style=\"white-space:pre;overflow-x:auto;line-height:normal;font-family:Menlo,'DejaVu Sans Mono',consolas,'Courier New',monospace\">┏━━━━━━━━━━━━━━━━━━━━━━━━━━━━━━━━━┳━━━━━━━━━━━━━━━━━━━━━━━━┳━━━━━━━━━━━━━━━┓\n",
       "┃<span style=\"font-weight: bold\"> Layer (type)                    </span>┃<span style=\"font-weight: bold\"> Output Shape           </span>┃<span style=\"font-weight: bold\">       Param # </span>┃\n",
       "┡━━━━━━━━━━━━━━━━━━━━━━━━━━━━━━━━━╇━━━━━━━━━━━━━━━━━━━━━━━━╇━━━━━━━━━━━━━━━┩\n",
       "│ embedding (<span style=\"color: #0087ff; text-decoration-color: #0087ff\">Embedding</span>)           │ (<span style=\"color: #00d7ff; text-decoration-color: #00d7ff\">None</span>, <span style=\"color: #00af00; text-decoration-color: #00af00\">700</span>, <span style=\"color: #00af00; text-decoration-color: #00af00\">200</span>)       │     <span style=\"color: #00af00; text-decoration-color: #00af00\">2,000,000</span> │\n",
       "├─────────────────────────────────┼────────────────────────┼───────────────┤\n",
       "│ simple_rnn (<span style=\"color: #0087ff; text-decoration-color: #0087ff\">SimpleRNN</span>)          │ (<span style=\"color: #00d7ff; text-decoration-color: #00d7ff\">None</span>, <span style=\"color: #00af00; text-decoration-color: #00af00\">200</span>)            │        <span style=\"color: #00af00; text-decoration-color: #00af00\">80,200</span> │\n",
       "├─────────────────────────────────┼────────────────────────┼───────────────┤\n",
       "│ dense (<span style=\"color: #0087ff; text-decoration-color: #0087ff\">Dense</span>)                   │ (<span style=\"color: #00d7ff; text-decoration-color: #00d7ff\">None</span>, <span style=\"color: #00af00; text-decoration-color: #00af00\">1</span>)              │           <span style=\"color: #00af00; text-decoration-color: #00af00\">201</span> │\n",
       "└─────────────────────────────────┴────────────────────────┴───────────────┘\n",
       "</pre>\n"
      ],
      "text/plain": [
       "┏━━━━━━━━━━━━━━━━━━━━━━━━━━━━━━━━━┳━━━━━━━━━━━━━━━━━━━━━━━━┳━━━━━━━━━━━━━━━┓\n",
       "┃\u001b[1m \u001b[0m\u001b[1mLayer (type)                   \u001b[0m\u001b[1m \u001b[0m┃\u001b[1m \u001b[0m\u001b[1mOutput Shape          \u001b[0m\u001b[1m \u001b[0m┃\u001b[1m \u001b[0m\u001b[1m      Param #\u001b[0m\u001b[1m \u001b[0m┃\n",
       "┡━━━━━━━━━━━━━━━━━━━━━━━━━━━━━━━━━╇━━━━━━━━━━━━━━━━━━━━━━━━╇━━━━━━━━━━━━━━━┩\n",
       "│ embedding (\u001b[38;5;33mEmbedding\u001b[0m)           │ (\u001b[38;5;45mNone\u001b[0m, \u001b[38;5;34m700\u001b[0m, \u001b[38;5;34m200\u001b[0m)       │     \u001b[38;5;34m2,000,000\u001b[0m │\n",
       "├─────────────────────────────────┼────────────────────────┼───────────────┤\n",
       "│ simple_rnn (\u001b[38;5;33mSimpleRNN\u001b[0m)          │ (\u001b[38;5;45mNone\u001b[0m, \u001b[38;5;34m200\u001b[0m)            │        \u001b[38;5;34m80,200\u001b[0m │\n",
       "├─────────────────────────────────┼────────────────────────┼───────────────┤\n",
       "│ dense (\u001b[38;5;33mDense\u001b[0m)                   │ (\u001b[38;5;45mNone\u001b[0m, \u001b[38;5;34m1\u001b[0m)              │           \u001b[38;5;34m201\u001b[0m │\n",
       "└─────────────────────────────────┴────────────────────────┴───────────────┘\n"
      ]
     },
     "metadata": {},
     "output_type": "display_data"
    },
    {
     "data": {
      "text/html": [
       "<pre style=\"white-space:pre;overflow-x:auto;line-height:normal;font-family:Menlo,'DejaVu Sans Mono',consolas,'Courier New',monospace\"><span style=\"font-weight: bold\"> Total params: </span><span style=\"color: #00af00; text-decoration-color: #00af00\">2,080,403</span> (7.94 MB)\n",
       "</pre>\n"
      ],
      "text/plain": [
       "\u001b[1m Total params: \u001b[0m\u001b[38;5;34m2,080,403\u001b[0m (7.94 MB)\n"
      ]
     },
     "metadata": {},
     "output_type": "display_data"
    },
    {
     "data": {
      "text/html": [
       "<pre style=\"white-space:pre;overflow-x:auto;line-height:normal;font-family:Menlo,'DejaVu Sans Mono',consolas,'Courier New',monospace\"><span style=\"font-weight: bold\"> Trainable params: </span><span style=\"color: #00af00; text-decoration-color: #00af00\">2,080,401</span> (7.94 MB)\n",
       "</pre>\n"
      ],
      "text/plain": [
       "\u001b[1m Trainable params: \u001b[0m\u001b[38;5;34m2,080,401\u001b[0m (7.94 MB)\n"
      ]
     },
     "metadata": {},
     "output_type": "display_data"
    },
    {
     "data": {
      "text/html": [
       "<pre style=\"white-space:pre;overflow-x:auto;line-height:normal;font-family:Menlo,'DejaVu Sans Mono',consolas,'Courier New',monospace\"><span style=\"font-weight: bold\"> Non-trainable params: </span><span style=\"color: #00af00; text-decoration-color: #00af00\">0</span> (0.00 B)\n",
       "</pre>\n"
      ],
      "text/plain": [
       "\u001b[1m Non-trainable params: \u001b[0m\u001b[38;5;34m0\u001b[0m (0.00 B)\n"
      ]
     },
     "metadata": {},
     "output_type": "display_data"
    },
    {
     "data": {
      "text/html": [
       "<pre style=\"white-space:pre;overflow-x:auto;line-height:normal;font-family:Menlo,'DejaVu Sans Mono',consolas,'Courier New',monospace\"><span style=\"font-weight: bold\"> Optimizer params: </span><span style=\"color: #00af00; text-decoration-color: #00af00\">2</span> (12.00 B)\n",
       "</pre>\n"
      ],
      "text/plain": [
       "\u001b[1m Optimizer params: \u001b[0m\u001b[38;5;34m2\u001b[0m (12.00 B)\n"
      ]
     },
     "metadata": {},
     "output_type": "display_data"
    }
   ],
   "source": [
    "## load the pre-trained model with Relu activation\n",
    "model=load_model('simple_rnn_imdb.h5')\n",
    "model.summary()"
   ]
  },
  {
   "cell_type": "code",
   "execution_count": 14,
   "metadata": {},
   "outputs": [
    {
     "data": {
      "text/plain": [
       "[array([[-0.01522329, -0.14405355, -0.84350646, ...,  0.40719822,\n",
       "         -0.69969887,  0.8211015 ],\n",
       "        [ 0.05668805, -0.03531987,  0.01618077, ..., -0.03000981,\n",
       "          0.05393399, -0.00399426],\n",
       "        [ 0.03604427,  0.02995667, -0.10726646, ..., -0.0751391 ,\n",
       "         -0.0552934 ,  0.11494442],\n",
       "        ...,\n",
       "        [-0.05970019,  0.0236995 ,  0.1403757 , ..., -0.09840823,\n",
       "          0.04903918, -0.03977718],\n",
       "        [-0.09797388, -0.04555972, -0.02548499, ...,  0.08696672,\n",
       "         -0.04356927,  0.01543691],\n",
       "        [-0.05166951,  0.13911036,  0.10640568, ..., -0.05850723,\n",
       "          0.0558934 , -0.05039908]], dtype=float32),\n",
       " array([[ 0.0262238 ,  0.10148522,  0.09547182, ..., -0.14816602,\n",
       "          0.02554362, -0.11030281],\n",
       "        [ 0.08901593, -0.12755913,  0.09822936, ...,  0.06682675,\n",
       "         -0.09913065,  0.03466034],\n",
       "        [ 0.09640178,  0.0215425 ,  0.26697686, ...,  0.1794036 ,\n",
       "         -0.00171386,  0.0809319 ],\n",
       "        ...,\n",
       "        [-0.0779371 , -0.01891048, -0.16376783, ...,  0.13712855,\n",
       "          0.06922071, -0.09738591],\n",
       "        [ 0.11538115,  0.12325414, -0.0201499 , ...,  0.05079994,\n",
       "          0.07711289, -0.08541685],\n",
       "        [-0.02759139, -0.03844839, -0.13706242, ..., -0.15298104,\n",
       "          0.05548993,  0.00164271]], dtype=float32),\n",
       " array([[-0.04946068,  0.00591609,  0.03610107, ..., -0.10947587,\n",
       "          0.0471818 , -0.12070388],\n",
       "        [ 0.1571119 ,  0.08438695, -0.00713987, ...,  0.07899563,\n",
       "         -0.04613052, -0.12460752],\n",
       "        [-0.09744214,  0.22134167, -0.00319154, ..., -0.03468457,\n",
       "         -0.12528968, -0.01460041],\n",
       "        ...,\n",
       "        [-0.22086895,  0.01651716,  0.07568263, ...,  0.23530957,\n",
       "         -0.07948201,  0.00374776],\n",
       "        [ 0.03861003,  0.04476575,  0.06919795, ...,  0.08231694,\n",
       "          0.08485758, -0.31972194],\n",
       "        [ 0.21638139,  0.07665676,  0.21182439, ...,  0.03471547,\n",
       "         -0.22848307,  0.06422713]], dtype=float32),\n",
       " array([ 1.84965483e-03, -1.00990888e-02,  4.96267788e-02, -2.37101107e-03,\n",
       "         1.27773080e-02,  2.76216436e-02, -3.58279124e-02, -1.24683371e-02,\n",
       "        -1.05588576e-02, -5.05797984e-03,  2.48824805e-03,  4.09389148e-03,\n",
       "        -2.40304116e-02, -4.64543700e-03, -1.37756420e-02, -2.77443416e-02,\n",
       "         2.11803410e-02,  1.05147753e-02,  4.72319825e-03, -1.96942370e-02,\n",
       "         4.03763435e-04, -1.91261861e-02,  2.94696335e-02, -1.36115355e-02,\n",
       "        -2.05812585e-02,  3.27168591e-02, -3.23698414e-03,  1.53472060e-02,\n",
       "         3.39480639e-02,  4.16308595e-03,  1.91437062e-02, -3.01636625e-02,\n",
       "        -8.51427577e-03,  1.58788897e-02,  2.56773346e-04, -6.86566127e-05,\n",
       "         2.99667846e-02, -1.05924101e-03,  1.23193292e-02,  1.25782536e-02,\n",
       "        -1.24567682e-02,  1.73330717e-02, -3.69622968e-02, -1.64946672e-02,\n",
       "        -2.72447895e-03, -2.13401932e-02, -2.25001201e-02, -1.75442602e-02,\n",
       "        -1.11560207e-02,  5.96339721e-03, -1.08067086e-02, -2.16113888e-02,\n",
       "         1.84442441e-04, -2.87283398e-03, -8.92455864e-04, -5.03414264e-03,\n",
       "         6.62177894e-03, -2.92441179e-03,  6.34976616e-03, -6.76492136e-03,\n",
       "         1.65162869e-02, -7.24464329e-03, -5.42322267e-03,  2.50781272e-02,\n",
       "         1.41161159e-02, -7.32171116e-03,  9.62236337e-03, -1.57353804e-02,\n",
       "         1.98886450e-02, -1.13103930e-02, -1.48342568e-02, -2.63626166e-02,\n",
       "        -8.82637314e-03,  1.18452422e-02, -3.34669300e-03,  5.36326738e-03,\n",
       "        -1.89006068e-02,  1.40083469e-02,  3.80876064e-02, -2.79069841e-02,\n",
       "        -1.18171014e-02,  2.14831140e-02,  1.93322599e-02,  6.85974397e-03,\n",
       "         1.55183431e-02, -7.66966445e-03, -1.14761507e-02, -9.71309317e-04,\n",
       "        -1.90680046e-02,  1.72936134e-02, -1.87183563e-02, -2.23718286e-02,\n",
       "        -1.22831156e-02, -1.00985635e-03,  3.47234905e-02, -1.41781857e-02,\n",
       "        -4.59301332e-03,  1.70188174e-02,  1.09618194e-01,  1.63890533e-02,\n",
       "        -2.82534529e-02,  2.18396150e-02, -3.96362841e-02, -2.30061989e-02,\n",
       "         4.34262538e-03,  2.37625856e-02, -7.72138359e-03,  9.96610988e-03,\n",
       "        -1.31344108e-03, -1.68832624e-03,  9.35263466e-03,  6.16123201e-04,\n",
       "         8.65502004e-03,  2.92451400e-03, -1.14535363e-02, -1.76717024e-02,\n",
       "         2.91629974e-02, -1.09495083e-02, -1.11442041e-02,  2.66126171e-03,\n",
       "        -3.20321470e-02,  8.82169232e-03,  1.11023858e-02, -2.18972601e-02,\n",
       "         8.52674246e-03,  3.57562979e-03, -1.56100076e-02, -2.91210786e-02],\n",
       "       dtype=float32),\n",
       " array([[-0.14713313],\n",
       "        [-0.01582875],\n",
       "        [ 0.07086027],\n",
       "        [-0.07544691],\n",
       "        [-0.24095364],\n",
       "        [ 0.11284912],\n",
       "        [ 0.15937136],\n",
       "        [-0.5784367 ],\n",
       "        [ 0.04037841],\n",
       "        [ 0.1048668 ],\n",
       "        [-0.11586806],\n",
       "        [-0.7532035 ],\n",
       "        [-0.12078618],\n",
       "        [ 0.12636161],\n",
       "        [ 0.3275754 ],\n",
       "        [-0.0567853 ],\n",
       "        [-0.21301928],\n",
       "        [-0.09665116],\n",
       "        [-0.2662471 ],\n",
       "        [ 0.00246901],\n",
       "        [ 0.13740222],\n",
       "        [ 0.10755717],\n",
       "        [-0.08709054],\n",
       "        [-0.5988956 ],\n",
       "        [-0.13222477],\n",
       "        [-0.06904124],\n",
       "        [-0.06102421],\n",
       "        [-0.10876402],\n",
       "        [-0.1982319 ],\n",
       "        [ 0.0071291 ],\n",
       "        [-0.00253025],\n",
       "        [ 0.00331573],\n",
       "        [ 0.2225988 ],\n",
       "        [ 0.14351976],\n",
       "        [ 0.2420343 ],\n",
       "        [ 0.22955124],\n",
       "        [ 0.14406922],\n",
       "        [-0.06379254],\n",
       "        [-0.20439872],\n",
       "        [ 0.1461386 ],\n",
       "        [ 0.12552309],\n",
       "        [ 0.09809594],\n",
       "        [-0.02533353],\n",
       "        [-0.16671667],\n",
       "        [ 0.09959137],\n",
       "        [ 0.17942996],\n",
       "        [ 0.00373436],\n",
       "        [ 0.00857623],\n",
       "        [-0.06492548],\n",
       "        [ 0.05694937],\n",
       "        [ 0.20829146],\n",
       "        [ 0.22902767],\n",
       "        [ 0.17448154],\n",
       "        [-0.06669322],\n",
       "        [ 0.28226748],\n",
       "        [-0.15983781],\n",
       "        [-0.20955953],\n",
       "        [-0.30889845],\n",
       "        [ 0.03600043],\n",
       "        [ 0.17606452],\n",
       "        [ 0.17577843],\n",
       "        [-0.12625897],\n",
       "        [-0.13371468],\n",
       "        [-0.32939476],\n",
       "        [ 0.0277687 ],\n",
       "        [-0.08448957],\n",
       "        [-0.06822944],\n",
       "        [ 0.07155697],\n",
       "        [-0.14191893],\n",
       "        [-0.16998716],\n",
       "        [ 0.05957111],\n",
       "        [-0.01298254],\n",
       "        [ 0.1984231 ],\n",
       "        [-0.01245773],\n",
       "        [ 0.01984142],\n",
       "        [-0.10930808],\n",
       "        [ 0.26027685],\n",
       "        [-0.20403707],\n",
       "        [-0.16353202],\n",
       "        [ 0.06819873],\n",
       "        [ 0.15094657],\n",
       "        [ 0.05387657],\n",
       "        [-0.17813519],\n",
       "        [ 0.01339051],\n",
       "        [-0.24248938],\n",
       "        [ 0.23697336],\n",
       "        [ 0.15856169],\n",
       "        [ 0.14166595],\n",
       "        [ 0.26225016],\n",
       "        [-0.14612712],\n",
       "        [-0.07921673],\n",
       "        [-0.60924953],\n",
       "        [-0.2573774 ],\n",
       "        [ 0.2177616 ],\n",
       "        [-0.51805437],\n",
       "        [-0.075629  ],\n",
       "        [ 0.13047232],\n",
       "        [-0.0515571 ],\n",
       "        [ 0.20233963],\n",
       "        [-0.55820334],\n",
       "        [ 0.04612585],\n",
       "        [-0.22549073],\n",
       "        [ 0.06623565],\n",
       "        [-0.28222564],\n",
       "        [-0.1291049 ],\n",
       "        [ 0.0561813 ],\n",
       "        [ 0.63394135],\n",
       "        [ 0.27100375],\n",
       "        [-0.1662194 ],\n",
       "        [ 0.11773052],\n",
       "        [ 0.20847249],\n",
       "        [-0.26442462],\n",
       "        [ 0.10973024],\n",
       "        [-0.06933963],\n",
       "        [ 0.03798798],\n",
       "        [ 0.23552845],\n",
       "        [-0.29686618],\n",
       "        [ 0.12807041],\n",
       "        [-0.06126777],\n",
       "        [ 0.47509995],\n",
       "        [ 0.30552465],\n",
       "        [-0.84185845],\n",
       "        [-0.23897879],\n",
       "        [ 0.06598265],\n",
       "        [-0.01644315],\n",
       "        [ 0.05327427],\n",
       "        [-0.027466  ],\n",
       "        [ 0.02527448]], dtype=float32),\n",
       " array([0.05758156], dtype=float32)]"
      ]
     },
     "execution_count": 14,
     "metadata": {},
     "output_type": "execute_result"
    }
   ],
   "source": [
    "##To see the weights of parameter we passed\n",
    "model.get_weights()"
   ]
  },
  {
   "cell_type": "code",
   "execution_count": 14,
   "metadata": {},
   "outputs": [],
   "source": [
    "##Step2: Helper function\n",
    "## function to decode reviews\n",
    "def decode_review(encoded_review):\n",
    "    return ' '.join([reverse_word_index.get(i-3,'?')for i in encoded_review])\n",
    "\n",
    "## function to preprocess user input\n",
    "def preprocess_text(text):\n",
    "    words=text.lower().split()\n",
    "    encoded_review=[word_index.get(word,2)+3 for word in words]\n",
    "    padded_review=sequence.pad_sequences([encoded_review],maxlen=500)\n",
    "    return padded_review"
   ]
  },
  {
   "cell_type": "code",
   "execution_count": 15,
   "metadata": {},
   "outputs": [],
   "source": [
    "## Prediction function\n",
    "def predict_sentiment(review):\n",
    "    preprocessed_input=preprocess_text(review)\n",
    "    prediction=model.predict(preprocessed_input)\n",
    "    sentiment='Positive' if prediction[0][0] >0.5 else 'Negative'\n",
    "    return sentiment,prediction[0][0]\n"
   ]
  },
  {
   "cell_type": "code",
   "execution_count": 22,
   "metadata": {},
   "outputs": [
    {
     "name": "stdout",
     "output_type": "stream",
     "text": [
      "\u001b[1m1/1\u001b[0m \u001b[32m━━━━━━━━━━━━━━━━━━━━\u001b[0m\u001b[37m\u001b[0m \u001b[1m0s\u001b[0m 204ms/step\n",
      "Review:The film is a worthwhile watch. On a scale from zero to five, I give this film a five. The film literally brought tears to my eyes. I highly/strongly/definitely recommend the film.\n",
      "Sentiment:Positive\n",
      "Prediction Score:0.6051603555679321\n"
     ]
    }
   ],
   "source": [
    "## Step3: User input and prediction\n",
    "## Example review for prediction\n",
    "example_review=\"The film is a worthwhile watch. On a scale from zero to five, I give this film a five. The film literally brought tears to my eyes. I highly/strongly/definitely recommend the film.\"\n",
    "sentiment,score=predict_sentiment(example_review)\n",
    "\n",
    "print(f'Review:{example_review}')\n",
    "print(f'Sentiment:{sentiment}')\n",
    "print(f'Prediction Score:{score}')"
   ]
  }
 ],
 "metadata": {
  "kernelspec": {
   "display_name": "my_env",
   "language": "python",
   "name": "python3"
  },
  "language_info": {
   "codemirror_mode": {
    "name": "ipython",
    "version": 3
   },
   "file_extension": ".py",
   "mimetype": "text/x-python",
   "name": "python",
   "nbconvert_exporter": "python",
   "pygments_lexer": "ipython3",
   "version": "3.12.4"
  },
  "orig_nbformat": 4
 },
 "nbformat": 4,
 "nbformat_minor": 2
}
